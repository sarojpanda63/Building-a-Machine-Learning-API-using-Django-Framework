{
 "cells": [
  {
   "cell_type": "code",
   "execution_count": 1,
   "metadata": {},
   "outputs": [
    {
     "name": "stderr",
     "output_type": "stream",
     "text": [
      "Using TensorFlow backend.\n"
     ]
    }
   ],
   "source": [
    "import pandas as pd\n",
    "import numpy as np\n",
    "from sklearn.model_selection import train_test_split\n",
    "from sklearn.metrics import accuracy_score, confusion_matrix\n",
    "from imblearn.over_sampling import SMOTE\n",
    "from sklearn.preprocessing import MinMaxScaler\n",
    "import warnings\n",
    "from collections import Counter\n",
    "warnings.filterwarnings('ignore')\n",
    "import seaborn as sns\n",
    "import matplotlib.pyplot as plt\n",
    "from keras import Sequential\n",
    "from keras.layers import Dense"
   ]
  },
  {
   "cell_type": "code",
   "execution_count": 2,
   "metadata": {},
   "outputs": [
    {
     "data": {
      "text/plain": [
       "Counter({'N': 148, 'Y': 332})"
      ]
     },
     "execution_count": 2,
     "metadata": {},
     "output_type": "execute_result"
    }
   ],
   "source": [
    "df=pd.read_csv('bankloan.csv')\n",
    "df=df.drop('Loan_ID',axis=1)\n",
    "df=df.dropna()\n",
    "df['LoanAmount']=(df['LoanAmount']*1000).astype(int)\n",
    "Counter(df['Loan_Status'])"
   ]
  },
  {
   "cell_type": "code",
   "execution_count": 3,
   "metadata": {},
   "outputs": [],
   "source": [
    "pre_Y=df['Loan_Status']\n",
    "pre_X=df.drop('Loan_Status', axis=1)\n",
    "dm_Y=pre_Y.map(dict(Y=1,N=0))\n",
    "dm_X=pd.get_dummies(pre_X)"
   ]
  },
  {
   "cell_type": "code",
   "execution_count": 4,
   "metadata": {},
   "outputs": [
    {
     "name": "stdout",
     "output_type": "stream",
     "text": [
      "Dependents                    0.0\n",
      "ApplicantIncome             150.0\n",
      "CoapplicantIncome             0.0\n",
      "LoanAmount                 9000.0\n",
      "Loan_Amount_Term             36.0\n",
      "Credit_History                0.0\n",
      "Gender_Female                 0.0\n",
      "Gender_Male                   0.0\n",
      "Married_No                    0.0\n",
      "Married_Yes                   0.0\n",
      "Education_Graduate            0.0\n",
      "Education_Not Graduate        0.0\n",
      "Self_Employed_No              0.0\n",
      "Self_Employed_Yes             0.0\n",
      "Property_Area_Rural           0.0\n",
      "Property_Area_Semiurban       0.0\n",
      "Property_Area_Urban           0.0\n",
      "dtype: float64\n",
      "Dependents                      3.0\n",
      "ApplicantIncome             81000.0\n",
      "CoapplicantIncome           33837.0\n",
      "LoanAmount                 600000.0\n",
      "Loan_Amount_Term              480.0\n",
      "Credit_History                  1.0\n",
      "Gender_Female                   1.0\n",
      "Gender_Male                     1.0\n",
      "Married_No                      1.0\n",
      "Married_Yes                     1.0\n",
      "Education_Graduate              1.0\n",
      "Education_Not Graduate          1.0\n",
      "Self_Employed_No                1.0\n",
      "Self_Employed_Yes               1.0\n",
      "Property_Area_Rural             1.0\n",
      "Property_Area_Semiurban         1.0\n",
      "Property_Area_Urban             1.0\n",
      "dtype: float64\n"
     ]
    }
   ],
   "source": [
    "X_min=dm_X.min(axis=0)\n",
    "X_max=dm_X.max(axis=0)\n",
    "print(X_min)\n",
    "print(X_max)"
   ]
  },
  {
   "cell_type": "code",
   "execution_count": 5,
   "metadata": {},
   "outputs": [
    {
     "data": {
      "text/plain": [
       "Counter({0: 332, 1: 332})"
      ]
     },
     "execution_count": 5,
     "metadata": {},
     "output_type": "execute_result"
    }
   ],
   "source": [
    "smote=SMOTE(random_state=42)\n",
    "X,Y = smote.fit_sample(dm_X,dm_Y)\n",
    "sc=MinMaxScaler()\n",
    "X=sc.fit_transform(X)\n",
    "Counter(Y)"
   ]
  },
  {
   "cell_type": "code",
   "execution_count": 6,
   "metadata": {},
   "outputs": [],
   "source": [
    "xtrn,xtst,ytrn,ytst=train_test_split(X,Y,test_size=0.2, random_state=42, shuffle=True)"
   ]
  },
  {
   "cell_type": "code",
   "execution_count": 7,
   "metadata": {},
   "outputs": [
    {
     "name": "stderr",
     "output_type": "stream",
     "text": [
      "WARNING: Logging before flag parsing goes to stderr.\n",
      "W0622 12:28:15.162061  1992 deprecation.py:506] From c:\\users\\user\\anaconda3\\envs\\venv\\lib\\site-packages\\tensorflow_core\\python\\ops\\resource_variable_ops.py:1630: calling BaseResourceVariable.__init__ (from tensorflow.python.ops.resource_variable_ops) with constraint is deprecated and will be removed in a future version.\n",
      "Instructions for updating:\n",
      "If using Keras pass *_constraint arguments to layers.\n",
      "W0622 12:28:15.542083  1992 deprecation.py:323] From c:\\users\\user\\anaconda3\\envs\\venv\\lib\\site-packages\\tensorflow_core\\python\\ops\\nn_impl.py:183: where (from tensorflow.python.ops.array_ops) is deprecated and will be removed in a future version.\n",
      "Instructions for updating:\n",
      "Use tf.where in 2.0, which has the same broadcast rule as np.where\n",
      "W0622 12:28:21.147403  1992 module_wrapper.py:139] From c:\\users\\user\\anaconda3\\envs\\venv\\lib\\site-packages\\keras\\backend\\tensorflow_backend.py:422: The name tf.global_variables is deprecated. Please use tf.compat.v1.global_variables instead.\n",
      "\n"
     ]
    },
    {
     "data": {
      "text/plain": [
       "<keras.callbacks.callbacks.History at 0x6ca6748>"
      ]
     },
     "execution_count": 7,
     "metadata": {},
     "output_type": "execute_result"
    }
   ],
   "source": [
    "model = Sequential()\n",
    "model.add(Dense(200, activation='relu', kernel_initializer='random_normal', input_dim=xtst.shape[1]))\n",
    "model.add(Dense(400, activation='relu', kernel_initializer='random_normal'))\n",
    "model.add(Dense(4, activation='relu', kernel_initializer='random_normal'))\n",
    "model.add(Dense(1, activation='sigmoid', kernel_initializer='random_normal'))\n",
    "model.compile(optimizer='adam', loss='binary_crossentropy', metrics=['accuracy'])\n",
    "model.fit(xtrn,ytrn, batch_size=20, epochs=50, verbose=0)"
   ]
  },
  {
   "cell_type": "code",
   "execution_count": 8,
   "metadata": {},
   "outputs": [
    {
     "name": "stdout",
     "output_type": "stream",
     "text": [
      "531/531 [==============================] - 0s 352us/step\n",
      "[0.31221438761933823, 0.8888888955116272]\n",
      "133/133 [==============================] - 0s 226us/step\n",
      "[0.5196288151848585, 0.8571428656578064]\n"
     ]
    }
   ],
   "source": [
    "eval_model_on_train=model.evaluate(xtrn,ytrn)\n",
    "print(eval_model_on_train)\n",
    "eval_model_on_test=model.evaluate(xtst,ytst)\n",
    "print(eval_model_on_test)"
   ]
  },
  {
   "cell_type": "code",
   "execution_count": 9,
   "metadata": {},
   "outputs": [
    {
     "data": {
      "image/png": "[encoded data removed]",
      "text/plain": [
       "<Figure size 432x288 with 2 Axes>"
      ]
     },
     "metadata": {
      "needs_background": "light"
     },
     "output_type": "display_data"
    }
   ],
   "source": [
    "ypred=model.predict(xtst)\n",
    "ypred=(ypred>0.5)\n",
    "from sklearn.metrics import confusion_matrix\n",
    "cm=confusion_matrix(ytst,ypred)\n",
    "ax=plt.subplot()\n",
    "sns.heatmap(cm, annot=True, ax=ax);\n",
    "\n",
    "ax.set_xlabel('Predicted');\n",
    "ax.set_ylabel('Actual');\n",
    "ax.set_title('Confusion Matrix');\n",
    "ax.xaxis.set_ticklabels(['No','Yes']);\n",
    "ax.yaxis.set_ticklabels(['No','Yes']);"
   ]
  },
  {
   "cell_type": "code",
   "execution_count": 10,
   "metadata": {},
   "outputs": [
    {
     "data": {
      "text/plain": [
       "['loan_model.pkl']"
      ]
     },
     "execution_count": 10,
     "metadata": {},
     "output_type": "execute_result"
    }
   ],
   "source": [
    "import pickle\n",
    "import joblib\n",
    "joblib.dump(model,'loan_model.pkl')"
   ]
  },
  {
   "cell_type": "code",
   "execution_count": null,
   "metadata": {},
   "outputs": [],
   "source": []
  }
 ],
 "metadata": {
  "kernelspec": {
   "display_name": "Python 3",
   "language": "python",
   "name": "python3"
  },
  "language_info": {
   "codemirror_mode": {
    "name": "ipython",
    "version": 3
   },
   "file_extension": ".py",
   "mimetype": "text/x-python",
   "name": "python",
   "nbconvert_exporter": "python",
   "pygments_lexer": "ipython3",
   "version": "3.7.6"
  }
 },
 "nbformat": 4,
 "nbformat_minor": 4
}
